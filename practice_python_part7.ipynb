{
 "cells": [
  {
   "cell_type": "markdown",
   "id": "e098b232",
   "metadata": {},
   "source": [
    "**1. Анализ текста. Популярность.**\n",
    "\n",
    "Дано: текст (str).\n",
    "\n",
    "Задание: необходимо получить 2 словаря (популярности слов и популярности букв).\n",
    "\n",
    "Пример:\n",
    "\n",
    " text = \"hello, word of word\", \n",
    " \n",
    " результат: \n",
    "     chars_popularity = {'h': 1, 'e': 1, 'l': 2, ..};\n",
    "     words_popularity = {'hello': 1, 'word': 2, 'of': 1}"
   ]
  },
  {
   "cell_type": "code",
   "execution_count": 7,
   "id": "c8f91184",
   "metadata": {},
   "outputs": [
    {
     "name": "stdout",
     "output_type": "stream",
     "text": [
      "{'hello': 1, 'word': 2, 'of': 1}\n",
      "{'h': 1, 'e': 1, 'l': 2, 'o': 4, 'w': 2, 'r': 2, 'd': 2, 'f': 1}\n"
     ]
    }
   ],
   "source": [
    "def analyze_text(text):\n",
    "    chars_popularity = {}\n",
    "    words_popularity = {}\n",
    "    text = text.replace(',', ' ').replace('.', ' ')\n",
    "\n",
    "    for i in text.split():\n",
    "        words_popularity[i] = words_popularity.get(i, 0) + 1\n",
    "        for j in i:\n",
    "            chars_popularity[j] = chars_popularity.get(j, 0) + 1\n",
    "    return words_popularity, chars_popularity\n",
    "\n",
    "\n",
    "text = 'hello, word of word'\n",
    "words_popularity, chars_popularity = analyze_text(text)\n",
    "print(words_popularity)\n",
    "print(chars_popularity)"
   ]
  },
  {
   "cell_type": "markdown",
   "id": "5c6295dd",
   "metadata": {},
   "source": [
    "**2. Римские цифры**\n",
    "\n",
    "Дано: целое число (int).\n",
    "\n",
    "В этой задаче, вам необходимо преобразовать данное целое число (от 1 до 3999) в римскую систему счета."
   ]
  },
  {
   "cell_type": "code",
   "execution_count": 3,
   "id": "9761c949",
   "metadata": {},
   "outputs": [
    {
     "name": "stdout",
     "output_type": "stream",
     "text": [
      "XXV\n"
     ]
    }
   ],
   "source": [
    "def convert_arabic_to_roman(number):\n",
    "    roman_numerals = {\n",
    "        'M': 1000,\n",
    "        'CM': 900,\n",
    "        'D': 500,\n",
    "        'CD': 400,\n",
    "        'C': 100,\n",
    "        'XC': 90,\n",
    "        'L': 50,\n",
    "        'XL': 40,\n",
    "        'X': 10,\n",
    "        'IX': 9,\n",
    "        'V': 5,\n",
    "        'IV': 4,\n",
    "        'I': 1,\n",
    "    }\n",
    "    if number not in range(1, 4000):\n",
    "        return 'Number out of range (1-3999)'\n",
    "    result = ''\n",
    "    for roman, arabic in roman_numerals.items():\n",
    "        result += number // arabic * roman\n",
    "        number %= arabic\n",
    "    return result\n",
    "\n",
    "\n",
    "number = 25\n",
    "roman_number = convert_arabic_to_roman(number)\n",
    "print(roman_number)"
   ]
  },
  {
   "cell_type": "markdown",
   "id": "30ac4285",
   "metadata": {},
   "source": [
    "**3. Ленивый спекулянт**\n",
    "\n",
    "Дано: словарь банк - курс доллара (dict).\n",
    "\n",
    "Задание: определить банк и курс покупки валюты с наиболее привлекательным предложением."
   ]
  },
  {
   "cell_type": "code",
   "execution_count": 8,
   "id": "e5850e7b",
   "metadata": {},
   "outputs": [
    {
     "name": "stdout",
     "output_type": "stream",
     "text": [
      "VTB -> 64.6\n",
      "Tinkoff Bank -> 64.6\n",
      "\n"
     ]
    }
   ],
   "source": [
    "def get_best_offer(dictionary):\n",
    "    best_rate = 999\n",
    "    best_offer = ''\n",
    "    for bank, rate in dictionary.items():\n",
    "        if rate < best_rate:\n",
    "            best_rate = rate\n",
    "\n",
    "    for bank, rate in dictionary.items():\n",
    "        if dictionary.get(bank) == best_rate:\n",
    "            best_offer += f'{bank} -> {rate}\\n'\n",
    "    return best_offer\n",
    "\n",
    "\n",
    "bank = {\n",
    "    'Sberbank': 78,\n",
    "    'VTB': 64.6,\n",
    "    'Tinkoff Bank': 64.6,\n",
    "    'Alfa Bank': 70,\n",
    "    'Gazprombank': 64.85,\n",
    "}\n",
    "print(get_best_offer(bank))"
   ]
  },
  {
   "cell_type": "markdown",
   "id": "ac9ab615",
   "metadata": {},
   "source": [
    "**4. Вверх дном**\n",
    "\n",
    "Дано: словарь ФИО - номер телефона(dict).\n",
    "\n",
    "Задание: получить новый словарь, инвертировав исходный, т.е. пары ключ - значение поменять местами (значение - ключ)."
   ]
  },
  {
   "cell_type": "code",
   "execution_count": 9,
   "id": "826a79bf",
   "metadata": {},
   "outputs": [
    {
     "name": "stdout",
     "output_type": "stream",
     "text": [
      "{'546810': 'Petr', '241815': 'Katya', '125586': 'Vika', '224585': 'Oleg'}\n"
     ]
    }
   ],
   "source": [
    "def invert_dictionary(dictionary):\n",
    "    inverted_book = {}\n",
    "\n",
    "    for name, phone_number in dictionary.items():\n",
    "        inverted_book.update({phone_number: name})\n",
    "    return inverted_book\n",
    "\n",
    "\n",
    "book = {\n",
    "    'Petr': '546810',\n",
    "    'Katya': '241815',\n",
    "    'Vika': '125586',\n",
    "    'Oleg': '224585',\n",
    "}\n",
    "print(invert_dictionary(book))"
   ]
  },
  {
   "cell_type": "markdown",
   "id": "d853d6d7",
   "metadata": {},
   "source": [
    "**5. Структурируем данные**\n",
    "\n",
    "Дано: 2 списка с измерениями(list).\n",
    "Необходимо получить словарь из 2х списков, где в первом находятся ключи, а во втором значения."
   ]
  },
  {
   "cell_type": "code",
   "execution_count": 5,
   "id": "66bfc9ee",
   "metadata": {},
   "outputs": [
    {
     "name": "stdout",
     "output_type": "stream",
     "text": [
      "{'2022-11-16': 64.6, '2022-11-15': 65, '2022-11-14': 65.1}\n"
     ]
    }
   ],
   "source": [
    "def make_dictionary(list1, list2):\n",
    "    rate_by_date = dict(zip(list1, list2))\n",
    "    return rate_by_date\n",
    "\n",
    "\n",
    "dates = ['2022-11-16', '2022-11-15', '2022-11-14']\n",
    "rates = [64.6, 65, 65.1]\n",
    "dictionary = make_dictionary(dates, rates)\n",
    "print(dictionary)"
   ]
  },
  {
   "cell_type": "code",
   "execution_count": null,
   "id": "49a6d25f",
   "metadata": {},
   "outputs": [],
   "source": []
  }
 ],
 "metadata": {
  "kernelspec": {
   "display_name": "Python 3 (ipykernel)",
   "language": "python",
   "name": "python3"
  },
  "language_info": {
   "codemirror_mode": {
    "name": "ipython",
    "version": 3
   },
   "file_extension": ".py",
   "mimetype": "text/x-python",
   "name": "python",
   "nbconvert_exporter": "python",
   "pygments_lexer": "ipython3",
   "version": "3.10.8"
  }
 },
 "nbformat": 4,
 "nbformat_minor": 5
}
